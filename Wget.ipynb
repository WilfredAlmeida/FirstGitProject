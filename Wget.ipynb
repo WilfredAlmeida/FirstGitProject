{
  "nbformat": 4,
  "nbformat_minor": 0,
  "metadata": {
    "colab": {
      "name": "Wget.ipynb",
      "provenance": [],
      "collapsed_sections": [],
      "include_colab_link": true
    },
    "kernelspec": {
      "name": "python3",
      "display_name": "Python 3"
    }
  },
  "cells": [
    {
      "cell_type": "markdown",
      "metadata": {
        "id": "view-in-github",
        "colab_type": "text"
      },
      "source": [
        "<a href=\"https://colab.research.google.com/github/WilfredAlmeida/FirstGitProject/blob/master/Wget.ipynb\" target=\"_parent\"><img src=\"https://colab.research.google.com/assets/colab-badge.svg\" alt=\"Open In Colab\"/></a>"
      ]
    },
    {
      "cell_type": "code",
      "metadata": {
        "id": "pn8cfJemThBg"
      },
      "source": [
        "Mount ur drive via below cell"
      ],
      "execution_count": null,
      "outputs": []
    },
    {
      "cell_type": "code",
      "metadata": {
        "id": "UeutIu9DGDL1",
        "colab": {
          "base_uri": "https://localhost:8080/"
        },
        "outputId": "60b6201e-f6ba-400e-b57e-78548467895b"
      },
      "source": [
        "from google.colab import drive\n",
        "\n",
        "drive.mount(\"/content/drive\")"
      ],
      "execution_count": null,
      "outputs": [
        {
          "output_type": "stream",
          "text": [
            "Mounted at /content/drive\n"
          ],
          "name": "stdout"
        }
      ]
    },
    {
      "cell_type": "code",
      "metadata": {
        "id": "sKWhRzPFTkbG"
      },
      "source": [
        "Put first path where you want to save file and then paste the link of download file"
      ],
      "execution_count": null,
      "outputs": []
    },
    {
      "cell_type": "code",
      "metadata": {
        "id": "IRyrWCoQGOKq"
      },
      "source": [
        "!wget -P '/content/drive/My Drive/Wget' 'Link goes here'"
      ],
      "execution_count": null,
      "outputs": []
    }
  ]
}